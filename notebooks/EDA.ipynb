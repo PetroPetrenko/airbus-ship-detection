# EDA.ipynb

import numpy as np
import pandas as pd
import matplotlib.pyplot as plt
import seaborn as sns
import cv2
import os

# Load the dataset
train_df = pd.read_csv('../train_ship_segmentations_v2.csv')

# Display the first few rows
print(train_df.head())

# Check for missing values
print(train_df.isnull().sum())

# Visualize the distribution of ship counts
plt.figure(figsize=(10, 6))
sns.countplot(x=train_df['EncodedPixels'].notnull())
plt.title('Distribution of Images with Ships')
plt.xlabel('Contains Ships (True/False)')
plt.ylabel('Count')
plt.show()

# Sample image visualization
def display_sample_images(df, n=5):
    sample_images = df.sample(n)
    plt.figure(figsize=(15, 10))
    for i, row in enumerate(sample_images.iterrows()):
        img_id = row[1]['ImageId']
        img = cv2.imread(f'../data/train/{img_id}')
        plt.subplot(1, n, i+1)
        plt.imshow(cv2.cvtColor(img, cv2.COLOR_BGR2RGB))
        plt.title(img_id)
        plt.axis('off')
    plt.show()

display_sample_images(train_df)

# Check the shape of the images
img_shape = cv2.imread(f'../data/train/{train_df.iloc[0]["ImageId"]}').shape
print(f'Shape of images: {img_shape}')
